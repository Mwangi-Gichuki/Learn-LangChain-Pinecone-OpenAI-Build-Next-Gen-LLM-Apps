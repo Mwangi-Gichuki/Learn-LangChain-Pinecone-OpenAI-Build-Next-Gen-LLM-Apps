{
 "cells": [
  {
   "cell_type": "markdown",
   "metadata": {},
   "source": [
    "## Creating a Custom ChatGPT App\n",
    "\n",
    "### Advantages of Using a custom ChatGPT App\n",
    "\n",
    "1. Increased security - you can add security measures such as access tracking, limiting levels of access, 2 factor authentication etc\n",
    "2. Improved user experience eg. customization using company colors, customizing content to match needs\n",
    "3. Greater flexibility - you get to decide what app to use based on the company needs and resources available"
   ]
  },
  {
   "cell_type": "markdown",
   "metadata": {},
   "source": [
    "### Custom ChatGPT App with LangChain"
   ]
  },
  {
   "cell_type": "code",
   "execution_count": 1,
   "metadata": {},
   "outputs": [
    {
     "data": {
      "text/plain": [
       "True"
      ]
     },
     "execution_count": 1,
     "metadata": {},
     "output_type": "execute_result"
    }
   ],
   "source": [
    "import os\n",
    "from dotenv import load_dotenv, find_dotenv\n",
    "load_dotenv(find_dotenv(), override=True)"
   ]
  },
  {
   "cell_type": "code",
   "execution_count": 11,
   "metadata": {},
   "outputs": [],
   "source": [
    "from langchain.chat_models import ChatOpenAI\n",
    "from langchain.schema import SystemMessage\n",
    "from langchain.chains import LLMChain\n",
    "from langchain.prompts import ChatPromptTemplate, HumanMessagePromptTemplate, MessagesPlaceholder\n",
    "from langchain.memory import ConversationBufferMemory, FileChatMessageHistory\n"
   ]
  },
  {
   "cell_type": "code",
   "execution_count": 6,
   "metadata": {},
   "outputs": [
    {
     "name": "stdout",
     "output_type": "stream",
     "text": [
      "The third President of Kenya is Uhuru Kenyatta. He has been serving as the president since April 9, 2013.\n",
      "--------------------------------------------------\n",
      "I apologize if there was a mistake or if I misunderstood something. Could you please provide more context or clarify what you are referring to so I can assist you better?\n",
      "--------------------------------------------------\n",
      "That's incorrect. The third President of Kenya was actually Mwai Kibaki. He served as President from 2002 to 2013. He succeeded President Daniel Arap Moi and was followed by President Uhuru Kenyatta.\n",
      "--------------------------------------------------\n",
      "The third President of Kenya was Mwai Kibaki. He served as the President of Kenya from 2002 to 2013.\n",
      "--------------------------------------------------\n",
      "The second President of Kenya was Daniel arap Moi. He served as the President of Kenya from 1978 to 2002, which makes a total of 24 years in power.\n",
      "--------------------------------------------------\n",
      "The second president of Kenya was Daniel arap Moi. He served as the president of Kenya from 1978 to 2002. Moi is known for his long presidency and the stability he maintained in Kenya during his tenure. He also implemented policies such as Nyayoism, which emphasized peace, love, and unity among Kenyans. However, his presidency was also marked by allegations of human rights abuses and corruption.\n",
      "--------------------------------------------------\n",
      "Goodbye\n"
     ]
    }
   ],
   "source": [
    "llm = ChatOpenAI(model_name='gpt-3.5-turbo', temperature=1)\n",
    "\n",
    "prompt = ChatPromptTemplate(\n",
    "    input_variables=['content'],\n",
    "    messages=[\n",
    "        SystemMessage(content='You are chatbot having a conversation with a human'),\n",
    "        HumanMessagePromptTemplate.from_template('{content}')\n",
    "    ]\n",
    ")\n",
    "\n",
    "chain = LLMChain(\n",
    "    llm=llm,\n",
    "    prompt = prompt,\n",
    "    verbose=False\n",
    ")\n",
    "\n",
    "while True:\n",
    "    content=input('Your prompt: ')\n",
    "    if content in ['quit', 'exit', 'bye']:\n",
    "        print('Goodbye')\n",
    "        break\n",
    "\n",
    "    response = chain.run({'content': content})\n",
    "    print(response)\n",
    "    print('-'*50)"
   ]
  },
  {
   "cell_type": "code",
   "execution_count": 7,
   "metadata": {},
   "outputs": [
    {
     "name": "stdout",
     "output_type": "stream",
     "text": [
      "\n",
      "\n",
      "\u001b[1m> Entering new LLMChain chain...\u001b[0m\n",
      "Prompt after formatting:\n",
      "\u001b[32;1m\u001b[1;3mSystem: You are chatbot having a conversation with a human\n",
      "Human: top 5 cities in Africa are\u001b[0m\n",
      "\n",
      "\u001b[1m> Finished chain.\u001b[0m\n",
      "The top 5 cities in Africa, based on various factors such as population, economy, cultural significance, and infrastructure, are:\n",
      "\n",
      "1. Cairo, Egypt: As the capital and largest city in Egypt, Cairo is often considered the gateway to Africa. It holds incredible historical importance, with iconic sites like the Giza Pyramids and the Sphinx. It is a bustling metropolis with a rich cultural scene.\n",
      "\n",
      "2. Johannesburg, South Africa: Known as the economic hub of Africa, Johannesburg is the largest city in South Africa. It has a vibrant business district, a thriving arts and cultural scene, and is home to many important historical landmarks such as the Apartheid Museum.\n",
      "\n",
      "3. Lagos, Nigeria: Lagos is the largest city in Nigeria and one of the fastest-growing cities in the world. It is a major financial center, with a lively music and entertainment industry. Despite its challenges, Lagos is known for its resilience and entrepreneurial spirit.\n",
      "\n",
      "4. Nairobi, Kenya: Nairobi is the capital and largest city of Kenya. It serves as a regional hub for both business and tourism. It is known for its diverse wildlife, national parks, and conservation efforts. Nairobi also hosts important regional conferences and is a major diplomatic center.\n",
      "\n",
      "5. Cape Town, South Africa: Cape Town is a city renowned for its stunning natural beauty and vibrant multicultural atmosphere. It is nestled between mountains and the sea, offering picturesque landscapes. It is popular for its iconic Table Mountain, vibrant music scene, and historical sites such as Robben Island.\n",
      "--------------------------------------------------\n",
      "Goodbye\n"
     ]
    }
   ],
   "source": [
    "llm = ChatOpenAI(model_name='gpt-3.5-turbo', temperature=1)\n",
    "\n",
    "prompt = ChatPromptTemplate(\n",
    "    input_variables=['content'],\n",
    "    messages=[\n",
    "        SystemMessage(content='You are chatbot having a conversation with a human'),\n",
    "        HumanMessagePromptTemplate.from_template('{content}')\n",
    "    ]\n",
    ")\n",
    "\n",
    "chain = LLMChain(\n",
    "    llm=llm,\n",
    "    prompt = prompt,\n",
    "    verbose=True\n",
    ")\n",
    "\n",
    "while True:\n",
    "    content=input('Your prompt: ')\n",
    "    if content in ['quit', 'exit', 'bye']:\n",
    "        print('Goodbye')\n",
    "        break\n",
    "\n",
    "    response = chain.run({'content': content})\n",
    "    print(response)\n",
    "    print('-'*50)"
   ]
  },
  {
   "cell_type": "markdown",
   "metadata": {},
   "source": [
    "## App with memory"
   ]
  },
  {
   "cell_type": "code",
   "execution_count": 10,
   "metadata": {},
   "outputs": [
    {
     "name": "stdout",
     "output_type": "stream",
     "text": [
      "\n",
      "\n",
      "\u001b[1m> Entering new LLMChain chain...\u001b[0m\n",
      "Prompt after formatting:\n",
      "\u001b[32;1m\u001b[1;3mSystem: You are chatbot having a conversation with a human\n",
      "Human: the mass of the earth is \u001b[0m\n",
      "\n",
      "\u001b[1m> Finished chain.\u001b[0m\n",
      "5.97 x 10^24 kilograms.\n",
      "--------------------------------------------------\n",
      "\n",
      "\n",
      "\u001b[1m> Entering new LLMChain chain...\u001b[0m\n",
      "Prompt after formatting:\n",
      "\u001b[32;1m\u001b[1;3mSystem: You are chatbot having a conversation with a human\n",
      "Human: the mass of the earth is \n",
      "AI: 5.97 x 10^24 kilograms.\n",
      "Human: what about its diameter\u001b[0m\n",
      "\n",
      "\u001b[1m> Finished chain.\u001b[0m\n",
      "The diameter of the Earth is approximately 12,742 kilometers.\n",
      "--------------------------------------------------\n",
      "\n",
      "\n",
      "\u001b[1m> Entering new LLMChain chain...\u001b[0m\n",
      "Prompt after formatting:\n",
      "\u001b[32;1m\u001b[1;3mSystem: You are chatbot having a conversation with a human\n",
      "Human: the mass of the earth is \n",
      "AI: 5.97 x 10^24 kilograms.\n",
      "Human: what about its diameter\n",
      "AI: The diameter of the Earth is approximately 12,742 kilometers.\n",
      "Human: 10 + 10 \u001b[0m\n",
      "\n",
      "\u001b[1m> Finished chain.\u001b[0m\n",
      "10 + 10 equals 20.\n",
      "--------------------------------------------------\n",
      "\n",
      "\n",
      "\u001b[1m> Entering new LLMChain chain...\u001b[0m\n",
      "Prompt after formatting:\n",
      "\u001b[32;1m\u001b[1;3mSystem: You are chatbot having a conversation with a human\n",
      "Human: the mass of the earth is \n",
      "AI: 5.97 x 10^24 kilograms.\n",
      "Human: what about its diameter\n",
      "AI: The diameter of the Earth is approximately 12,742 kilometers.\n",
      "Human: 10 + 10 \n",
      "AI: 10 + 10 equals 20.\n",
      "Human: answer * 4\u001b[0m\n",
      "\n",
      "\u001b[1m> Finished chain.\u001b[0m\n",
      "20 multiplied by 4 equals 80.\n",
      "--------------------------------------------------\n",
      "Goodbye\n"
     ]
    }
   ],
   "source": [
    "llm = ChatOpenAI(model_name='gpt-3.5-turbo', temperature=1)\n",
    "\n",
    "# memory object\n",
    "memory = ConversationBufferMemory(\n",
    "    memory_key='chat_history',\n",
    "    return_messages=True\n",
    ")\n",
    "\n",
    "# Inject the memory into the prompt\n",
    "prompt = ChatPromptTemplate(\n",
    "    input_variables=['content'],\n",
    "    messages=[\n",
    "        SystemMessage(content='You are chatbot having a conversation with a human'),\n",
    "        MessagesPlaceholder(variable_name='chat_history'),\n",
    "        HumanMessagePromptTemplate.from_template('{content}')\n",
    "    ]\n",
    ")\n",
    "\n",
    "# Adding the memory to the chain\n",
    "chain = LLMChain(\n",
    "    llm=llm,\n",
    "    prompt = prompt,\n",
    "    memory=memory,\n",
    "    verbose=True\n",
    ")\n",
    "\n",
    "while True:\n",
    "    content=input('Your prompt: ')\n",
    "    if content in ['quit', 'exit', 'bye']:\n",
    "        print('Goodbye')\n",
    "        break\n",
    "\n",
    "    response = chain.run({'content': content})\n",
    "    print(response)\n",
    "    print('-'*50)"
   ]
  },
  {
   "cell_type": "markdown",
   "metadata": {},
   "source": [
    "## App with memory and history"
   ]
  },
  {
   "cell_type": "code",
   "execution_count": 12,
   "metadata": {},
   "outputs": [
    {
     "name": "stdout",
     "output_type": "stream",
     "text": [
      "\n",
      "\n",
      "\u001b[1m> Entering new LLMChain chain...\u001b[0m\n",
      "Prompt after formatting:\n",
      "\u001b[32;1m\u001b[1;3mSystem: You are chatbot having a conversation with a human\n",
      "Human: light speed in vacuum\u001b[0m\n",
      "\n",
      "\u001b[1m> Finished chain.\u001b[0m\n",
      "The speed of light in a vacuum is approximately 299,792,458 meters per second, usually rounded to 300,000 kilometers per second or 186,282 miles per second. This constant speed is commonly denoted by the letter \"c\" in scientific equations.\n",
      "--------------------------------------------------\n",
      "\n",
      "\n",
      "\u001b[1m> Entering new LLMChain chain...\u001b[0m\n",
      "Prompt after formatting:\n",
      "\u001b[32;1m\u001b[1;3mSystem: You are chatbot having a conversation with a human\n",
      "Human: light speed in vacuum\n",
      "AI: The speed of light in a vacuum is approximately 299,792,458 meters per second, usually rounded to 300,000 kilometers per second or 186,282 miles per second. This constant speed is commonly denoted by the letter \"c\" in scientific equations.\n",
      "Human: what about its speed in water\u001b[0m\n",
      "\n",
      "\u001b[1m> Finished chain.\u001b[0m\n",
      "The speed of light in water is slower than its speed in a vacuum. On average, light travels at about 225,000 kilometers per second (or 140,000 miles per second) in water. The exact speed of light in water depends on factors such as temperature and the composition of the water, which can slightly affect its refractive index.\n",
      "--------------------------------------------------\n",
      "Goodbye\n"
     ]
    }
   ],
   "source": [
    "llm = ChatOpenAI(model_name='gpt-3.5-turbo', temperature=1)\n",
    "\n",
    "# memory and history object\n",
    "history = FileChatMessageHistory('chat_history.json')\n",
    "memory = ConversationBufferMemory(\n",
    "    memory_key='chat_history',\n",
    "    chat_memory=history,\n",
    "    return_messages=True\n",
    ")\n",
    "\n",
    "# Inject the memory into the prompt\n",
    "prompt = ChatPromptTemplate(\n",
    "    input_variables=['content'],\n",
    "    messages=[\n",
    "        SystemMessage(content='You are chatbot having a conversation with a human'),\n",
    "        MessagesPlaceholder(variable_name='chat_history'),\n",
    "        HumanMessagePromptTemplate.from_template('{content}')\n",
    "    ]\n",
    ")\n",
    "\n",
    "# Adding the memory to the chain\n",
    "chain = LLMChain(\n",
    "    llm=llm,\n",
    "    prompt = prompt,\n",
    "    memory=memory,\n",
    "    verbose=True\n",
    ")\n",
    "\n",
    "while True:\n",
    "    content=input('Your prompt: ')\n",
    "    if content in ['quit', 'exit', 'bye']:\n",
    "        print('Goodbye')\n",
    "        break\n",
    "\n",
    "    response = chain.run({'content': content})\n",
    "    print(response)\n",
    "    print('-'*50)"
   ]
  },
  {
   "cell_type": "code",
   "execution_count": null,
   "metadata": {},
   "outputs": [],
   "source": []
  }
 ],
 "metadata": {
  "kernelspec": {
   "display_name": "Python 3",
   "language": "python",
   "name": "python3"
  },
  "language_info": {
   "codemirror_mode": {
    "name": "ipython",
    "version": 3
   },
   "file_extension": ".py",
   "mimetype": "text/x-python",
   "name": "python",
   "nbconvert_exporter": "python",
   "pygments_lexer": "ipython3",
   "version": "3.11.6"
  }
 },
 "nbformat": 4,
 "nbformat_minor": 2
}
